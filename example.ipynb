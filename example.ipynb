{
 "cells": [
  {
   "cell_type": "code",
   "execution_count": 23,
   "metadata": {},
   "outputs": [
    {
     "data": {
      "image/png": "[encoded data removed]",
      "text/plain": [
       "<matplotlib.figure.Figure at 0x7f6ac2014090>"
      ]
     },
     "metadata": {},
     "output_type": "display_data"
    }
   ],
   "source": [
    "import matplotlib.pyplot as plt\n",
    "import matplotlib.patches as patches\n",
    "% matplotlib inline\n",
    "import h5py\n",
    "import numpy as np\n",
    "np.random.seed(1)\n",
    "\n",
    "f = h5py.File('501474098_v2.nwb')\n",
    "data = f['/stimulus/presentation/stimulus_epoch/stimulus_epoch_table'].value\n",
    "f.close()\n",
    "\n",
    "\n",
    "fig, ax = plt.subplots(1,1,figsize=(10,1))\n",
    "\n",
    "color_dict = {}\n",
    "for epoch_ind in range(len(data)):\n",
    "    stimulus = data['stimulus'][epoch_ind]\n",
    "    if stimulus not in color_dict:\n",
    "        color = np.random.rand(3,)\n",
    "        color_dict[stimulus] = color\n",
    "    else:\n",
    "        color = color_dict[stimulus]\n",
    "    \n",
    "    start = data['start'][epoch_ind]\n",
    "    end = data['end'][epoch_ind]\n",
    "    ax.add_patch(patches.Rectangle((start,0), end-start, 1, facecolor=color))\n",
    "\n",
    "ax.set_xlim(0,data['end'].max())\n",
    "plt.show()"
   ]
  },
  {
   "cell_type": "code",
   "execution_count": null,
   "metadata": {
    "collapsed": true
   },
   "outputs": [],
   "source": []
  }
 ],
 "metadata": {
  "kernelspec": {
   "display_name": "Python 2",
   "language": "python",
   "name": "python2"
  },
  "language_info": {
   "codemirror_mode": {
    "name": "ipython",
    "version": 2
   },
   "file_extension": ".py",
   "mimetype": "text/x-python",
   "name": "python",
   "nbconvert_exporter": "python",
   "pygments_lexer": "ipython2",
   "version": "2.7.13"
  }
 },
 "nbformat": 4,
 "nbformat_minor": 2
}
